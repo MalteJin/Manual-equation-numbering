{
 "cells": [
  {
   "cell_type": "markdown",
   "metadata": {},
   "source": [
    "# Manual equation numbering"
   ]
  },
  {
   "cell_type": "markdown",
   "metadata": {},
   "source": [
    "## Introduction"
   ]
  },
  {
   "cell_type": "markdown",
   "metadata": {},
   "source": [
    "A couple of month ago I discovered Python and Jupyter Notebooks and quickly became addicted. When I started writing my very first notebook I saw there´s not yet a built-in equation numbering system. I noticed it is planned to integrate this in [future](http://jupyter-notebook.readthedocs.org/en/latest/examples/Notebook/Typesetting%20Equations.html). For now I developed and use a quick fix to number equations manually, meaning using pure text with no automatic numbering or hyperlink functionality.\n",
    "The resulting function can be found at the end of this notebook (\"The solution\"). Since, I documented my way towards this solution in this Workbook I also took the opportunity to say thanks to a number of forum contributors who helped me with this approach. To all others I would also like to express my gratitude for realizing and giving their know-how in forums to such an interesting open source project as Python and the Jupyter Notebook.\n",
    "\n",
    "Any comments are welcome, but keep in mind I am a newbie on this and these are my first steps :).\n",
    "\n",
    "Malte Hof malte.hof@iwes.fraunhofer.de\n",
    "\n",
    "14.7.2015, Kassel/Germany\n"
   ]
  },
  {
   "cell_type": "markdown",
   "metadata": {},
   "source": [
    "## The problem"
   ]
  },
  {
   "cell_type": "markdown",
   "metadata": {},
   "source": [
    "Here is an example of two equations which I wanted to be numbered to refer to them in Markdown cells. My initial idea was to somehow suppress the newline introduced by the display command and then add an equation as text. However, user [minrk](http://stackoverflow.com/questions/17439176/ipython-notebook-how-to-display-multiple-objects-without-newline) taught me display() always introduces a newline. On the other hand his contribution gave me the idea of using HTML."
   ]
  },
  {
   "cell_type": "code",
   "execution_count": 15,
   "metadata": {
    "collapsed": false
   },
   "outputs": [
    {
     "data": {
      "image/png": "[encoded data removed]",
      "text/latex": [
       "$$x_{1} = \\frac{1}{2 a} \\left(- b + \\sqrt{- 4 a c + b^{2}}\\right)$$"
      ],
      "text/plain": [
       "             _____________\n",
       "            ╱           2 \n",
       "     -b + ╲╱  -4⋅a⋅c + b  \n",
       "x₁ = ─────────────────────\n",
       "              2⋅a         "
      ]
     },
     "metadata": {},
     "output_type": "display_data"
    },
    {
     "data": {
      "image/png": "[encoded data removed]",
      "text/latex": [
       "$$x_{2} = - \\frac{1}{2 a} \\left(b + \\sqrt{- 4 a c + b^{2}}\\right)$$"
      ],
      "text/plain": [
       "      ⎛       _____________⎞ \n",
       "      ⎜      ╱           2 ⎟ \n",
       "     -⎝b + ╲╱  -4⋅a⋅c + b  ⎠ \n",
       "x₂ = ────────────────────────\n",
       "               2⋅a           "
      ]
     },
     "metadata": {},
     "output_type": "display_data"
    }
   ],
   "source": [
    "import sympy as sp\n",
    "from IPython.display import display,HTML \n",
    "sp.init_printing(use_unicode=True,use_latex=True,euler=True)\n",
    "a,b,c,x,x1,x2=sp.symbols(\"a,b,c,x,x_1,x_2\")\n",
    "eq0 =(a*x**2+b*x+c-0)\n",
    "eq1=sp.solve(eq0,x)\n",
    "eq1a=eq1[0]\n",
    "eq1b=eq1[1]\n",
    "display(sp.Eq(x1,eq1a))\n",
    "display(sp.Eq(x2,eq1b))"
   ]
  },
  {
   "cell_type": "markdown",
   "metadata": {},
   "source": [
    "## Finger exercises towards a solution"
   ]
  },
  {
   "cell_type": "markdown",
   "metadata": {},
   "source": [
    "Realizing the possibilities of using Python and HTML in the Jupyter Notebook I started to experiment with small code snippets for sub-problems of the problem."
   ]
  },
  {
   "cell_type": "markdown",
   "metadata": {},
   "source": [
    "### Printing on same line out of code cell"
   ]
  },
  {
   "cell_type": "markdown",
   "metadata": {},
   "source": [
    "\n",
    "[Haoyu Chen](http://stackoverflow.com/questions/24592888/align-text-to-the-left-and-right-on-the-same-line-with-css\") gave me the deciding hint for doing this:"
   ]
  },
  {
   "cell_type": "code",
   "execution_count": 16,
   "metadata": {
    "collapsed": false
   },
   "outputs": [
    {
     "data": {
      "text/html": [
       "<span> Left and                                  </span><span style=\"float:right\"> ...right on same line </span>"
      ],
      "text/plain": [
       "<IPython.core.display.HTML object>"
      ]
     },
     "execution_count": 16,
     "metadata": {},
     "output_type": "execute_result"
    }
   ],
   "source": [
    "HTML('<span> Left and                                  </span>'\n",
    "     '<span style=\"float:right\"> ...right on same line </span>')"
   ]
  },
  {
   "cell_type": "markdown",
   "metadata": {},
   "source": [
    "### Using format string in HTML expression"
   ]
  },
  {
   "cell_type": "markdown",
   "metadata": {},
   "source": [
    "[Paul Ivanov-2\n",
    "](http://python.6.x6.nabble.com/Printing-HTML-within-IPython-Notebook-IPython-specific-prettyprint-td5016624.html) helped me here with his example, which I simplified to my needs:"
   ]
  },
  {
   "cell_type": "code",
   "execution_count": 17,
   "metadata": {
    "collapsed": false
   },
   "outputs": [
    {
     "data": {
      "text/html": [
       "<span>Example Latex expression evaluated by MathJax: $a_1+a_23=7 \\sqrt(2)$</span>"
      ],
      "text/plain": [
       "<IPython.core.display.HTML object>"
      ]
     },
     "execution_count": 17,
     "metadata": {},
     "output_type": "execute_result"
    }
   ],
   "source": [
    "expr='$a_1+a_23=7 \\sqrt(2)$'\n",
    "HTML(\"<span>\" +'Example Latex expression evaluated by MathJax: ' + str(expr) +\"</span>\")"
   ]
  },
  {
   "cell_type": "markdown",
   "metadata": {},
   "source": [
    "### Writing sympy equations as Latex expressions"
   ]
  },
  {
   "cell_type": "markdown",
   "metadata": {},
   "source": [
    "This is well described on the sympy page. For whatever sympy topic the contributions of [asmeurer]( http://asmeurer.github.io/blog/) gave me always very valuable information.  "
   ]
  },
  {
   "cell_type": "code",
   "execution_count": 18,
   "metadata": {
    "collapsed": false
   },
   "outputs": [],
   "source": [
    "str0=sp.latex(eq1a)\n",
    "str1=sp.latex(eq1b)"
   ]
  },
  {
   "cell_type": "markdown",
   "metadata": {},
   "source": [
    "### Putting the parts together"
   ]
  },
  {
   "cell_type": "code",
   "execution_count": 19,
   "metadata": {
    "collapsed": false
   },
   "outputs": [
    {
     "data": {
      "text/html": [
       "<span style=\"font-size:120%\">Equation:$\\frac{1}{2 a} \\left(- b + \\sqrt{- 4 a c + b^{2}}\\right)$</span><span style=\"float:right\"   > (eq 1)  </span>"
      ],
      "text/plain": [
       "<IPython.core.display.HTML object>"
      ]
     },
     "execution_count": 19,
     "metadata": {},
     "output_type": "execute_result"
    }
   ],
   "source": [
    "expr='$'+str0+'$'\n",
    "HTML('<span style=\"font-size:120%\">' +'Equation:' + str(expr) +'</span>'\n",
    "     '<span style=\"float:right\"   > (eq 1)  </span>')"
   ]
  },
  {
   "cell_type": "markdown",
   "metadata": {},
   "source": [
    "### The solution"
   ]
  },
  {
   "cell_type": "markdown",
   "metadata": {},
   "source": [
    "The above given approach is now written as a function which solves my initial problem:"
   ]
  },
  {
   "cell_type": "code",
   "execution_count": 20,
   "metadata": {
    "collapsed": false,
    "scrolled": true
   },
   "outputs": [
    {
     "data": {
      "text/html": [
       "<span style=\"font-size:120%\">Solution 1: $\\frac{1}{2 a} \\left(- b + \\sqrt{- 4 a c + b^{2}}\\right)$</span><span style=\"float:right\"   >(1)</span>"
      ],
      "text/plain": [
       "<IPython.core.display.HTML object>"
      ]
     },
     "metadata": {},
     "output_type": "display_data"
    },
    {
     "data": {
      "text/html": [
       "<span style=\"font-size:120%\">Solution 2: $- \\frac{1}{2 a} \\left(b + \\sqrt{- 4 a c + b^{2}}\\right)$</span><span style=\"float:right\"   >(2)</span>"
      ],
      "text/plain": [
       "<IPython.core.display.HTML object>"
      ]
     },
     "metadata": {},
     "output_type": "display_data"
    }
   ],
   "source": [
    "def eqNumber(eqText,eq,eqLabel):\n",
    "   str=sp.latex(eq) #Convert sympy object to Latex\n",
    "   expr='$'+str+'$' #Add $ signs\n",
    "   display( HTML('<span style=\"font-size:120%\">' +eqText + (expr) +'</span>'\n",
    "                 '<span style=\"float:right\"   >' +eqLabel+         '</span>') )\n",
    "         \n",
    "\n",
    "eqNumber('Solution 1: ',eq1a,'(1)')\n",
    "eqNumber('Solution 2: ',eq1b,'(2)')"
   ]
  }
 ],
 "metadata": {
  "kernelspec": {
   "display_name": "Python 3",
   "language": "python",
   "name": "python3"
  },
  "language_info": {
   "codemirror_mode": {
    "name": "ipython",
    "version": 3
   },
   "file_extension": ".py",
   "mimetype": "text/x-python",
   "name": "python",
   "nbconvert_exporter": "python",
   "pygments_lexer": "ipython3",
   "version": "3.4.3"
  }
 },
 "nbformat": 4,
 "nbformat_minor": 0
}
